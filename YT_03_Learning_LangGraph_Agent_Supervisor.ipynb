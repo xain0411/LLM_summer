{
  "cells": [
    {
      "cell_type": "markdown",
      "metadata": {
        "id": "hRZ7eoekpsMc"
      },
      "source": [
        "# 03. Learning LangGraph - Agent Supervisor"
      ]
    },
    {
      "cell_type": "code",
      "execution_count": 1,
      "metadata": {
        "colab": {
          "base_uri": "https://localhost:8080/"
        },
        "id": "AAoQEqlXGrWi",
        "outputId": "1b43d9dd-38c3-4005-c91e-585f58e51d24"
      },
      "outputs": [],
      "source": [
        "# !pip install --quiet -U langchain langchain_openai langgraph langchainhub langchain_experimental"
      ]
    },
    {
      "cell_type": "code",
      "execution_count": 1,
      "metadata": {
        "id": "guac0Zh7Gz4Q"
      },
      "outputs": [],
      "source": [
        "import os\n",
        "# from google.colab import userdata\n",
        "\n",
        "\n",
        "# os.environ[\"OPENAI_API_KEY\"] = userdata.get('OPENAI_API_KEY')\n",
        "\n",
        "# os.environ[\"LANGCHAIN_TRACING_V2\"] = \"true\"\n",
        "# os.environ[\"LANGCHAIN_API_KEY\"] = userdata.get('LANGCHAIN_API_KEY')\n",
        "os.environ[\"LANGCHAIN_PROJECT\"] = \"LangGraph 03 Multi-agent Supervisor\""
      ]
    },
    {
      "cell_type": "markdown",
      "metadata": {
        "id": "nGkci88EkVwj"
      },
      "source": [
        "## The model"
      ]
    },
    {
      "cell_type": "code",
      "execution_count": 2,
      "metadata": {
        "id": "58MBHiikkQDb"
      },
      "outputs": [],
      "source": [
        "from langchain_openai import ChatOpenAI\n",
        "\n",
        "llm = ChatOpenAI(model=\"gpt-4-1106-preview\")"
      ]
    },
    {
      "cell_type": "markdown",
      "metadata": {
        "id": "2_I3howTkdUw"
      },
      "source": [
        "## Tools"
      ]
    },
    {
      "cell_type": "code",
      "execution_count": 3,
      "metadata": {
        "id": "CX5oJ00G_3nL"
      },
      "outputs": [],
      "source": [
        "from typing import Annotated, List, Tuple, Union\n",
        "from langchain.tools import BaseTool, StructuredTool, Tool\n",
        "from langchain_experimental.tools import PythonREPLTool\n",
        "from langchain_core.tools import tool\n",
        "import random\n",
        "\n",
        "# This executes code locally, which can be unsafe\n",
        "python_repl_tool = PythonREPLTool()"
      ]
    },
    {
      "cell_type": "code",
      "execution_count": 5,
      "metadata": {
        "id": "OLeIVeaEJltj"
      },
      "outputs": [],
      "source": [
        "# my custom tools\n",
        "@tool(\"lower_case\", return_direct=False)\n",
        "def to_lower_case(input:str) -> str:\n",
        "  \"\"\"Returns the input as all lower case.\"\"\"\n",
        "  return input.lower()\n",
        "\n",
        "@tool(\"random_number\", return_direct=False)\n",
        "def random_number_maker(input:str) -> str:\n",
        "    \"\"\"Returns a random number between 0-100. input the word 'random'\"\"\"\n",
        "    return random.randint(0, 100)\n",
        "\n",
        "tools = [to_lower_case,random_number_maker,python_repl_tool]"
      ]
    },
    {
      "cell_type": "markdown",
      "metadata": {
        "id": "8YeRorGHBR3r"
      },
      "source": [
        "## Helper Utils"
      ]
    },
    {
      "cell_type": "code",
      "execution_count": 6,
      "metadata": {
        "id": "DJMQ7KlEQ3CW"
      },
      "outputs": [],
      "source": [
        "from langchain.agents import AgentExecutor, create_openai_tools_agent\n",
        "from langchain_core.messages import BaseMessage, HumanMessage\n",
        "from langchain_openai import ChatOpenAI\n",
        "\n",
        "def create_agent(llm: ChatOpenAI, tools: list, system_prompt: str):\n",
        "    # Each worker node will be given a name and some tools.\n",
        "    prompt = ChatPromptTemplate.from_messages(\n",
        "        [\n",
        "            (\n",
        "                \"system\",\n",
        "                system_prompt,\n",
        "            ),\n",
        "            MessagesPlaceholder(variable_name=\"messages\"),\n",
        "            MessagesPlaceholder(variable_name=\"agent_scratchpad\"),\n",
        "        ]\n",
        "    )\n",
        "    agent = create_openai_tools_agent(llm, tools, prompt)\n",
        "    executor = AgentExecutor(agent=agent, tools=tools)\n",
        "    return executor"
      ]
    },
    {
      "cell_type": "code",
      "execution_count": 7,
      "metadata": {
        "id": "5dZEnkhVQ3IG"
      },
      "outputs": [],
      "source": [
        "# agent node\n",
        "def agent_node(state, agent, name):\n",
        "    result = agent.invoke(state)\n",
        "    return {\"messages\": [HumanMessage(content=result[\"output\"], name=name)]}"
      ]
    },
    {
      "cell_type": "markdown",
      "metadata": {
        "id": "GxxOYkAgRPJW"
      },
      "source": [
        "## Create Agent Supervisor\n",
        "\n",
        "It will use function calling to choose the next worker node OR finish processing."
      ]
    },
    {
      "cell_type": "code",
      "execution_count": 9,
      "metadata": {
        "id": "58_Va-0WROGY"
      },
      "outputs": [],
      "source": [
        "from langchain.output_parsers.openai_functions import JsonOutputFunctionsParser\n",
        "from langchain_core.prompts import ChatPromptTemplate, MessagesPlaceholder\n",
        "\n",
        "members = [\"Lotto_Manager\", \"Coder\"]\n",
        "system_prompt = (\n",
        "    \"You are a supervisor tasked with managing a conversation between the\"\n",
        "    \" following workers:  {members}. Given the following user request,\"\n",
        "    \" respond with the worker to act next. Each worker will perform a\"\n",
        "    \" task and respond with their results and status. When finished,\"\n",
        "    \" respond with FINISH.\"\n",
        ")\n",
        "# Our team supervisor is an LLM node. It just picks the next agent to process\n",
        "# and decides when the work is completed\n",
        "options = [\"FINISH\"] + members\n",
        "# Using openai function calling can make output parsing easier for us\n",
        "function_def = {\n",
        "    \"name\": \"route\",\n",
        "    \"description\": \"Select the next role.\",\n",
        "    \"parameters\": {\n",
        "        \"title\": \"routeSchema\",\n",
        "        \"type\": \"object\",\n",
        "        \"properties\": {\n",
        "            \"next\": {\n",
        "                \"title\": \"Next\",\n",
        "                \"anyOf\": [\n",
        "                    {\"enum\": options},\n",
        "                ],\n",
        "            }\n",
        "        },\n",
        "        \"required\": [\"next\"],\n",
        "    },\n",
        "}\n",
        "prompt = ChatPromptTemplate.from_messages(\n",
        "    [\n",
        "        (\"system\", system_prompt),\n",
        "        MessagesPlaceholder(variable_name=\"messages\"),\n",
        "        (\n",
        "            \"system\",\n",
        "            \"Given the conversation above, who should act next?\"\n",
        "            \" Or should we FINISH? Select one of: {options}\",\n",
        "        ),\n",
        "    ]\n",
        ").partial(options=str(options), members=\", \".join(members))\n",
        "\n",
        "\n",
        "supervisor_chain = (\n",
        "    prompt\n",
        "    | llm.bind_functions(functions=[function_def], function_call=\"route\")\n",
        "    | JsonOutputFunctionsParser()\n",
        ")"
      ]
    },
    {
      "cell_type": "markdown",
      "metadata": {
        "id": "VCLUC2g5RfT4"
      },
      "source": [
        "## Create the Agnet State and Graph"
      ]
    },
    {
      "cell_type": "code",
      "execution_count": 10,
      "metadata": {
        "id": "7m3VoyjkRh8n"
      },
      "outputs": [],
      "source": [
        "import operator\n",
        "from typing import Annotated, Any, Dict, List, Optional, Sequence, TypedDict\n",
        "import functools\n",
        "\n",
        "from langchain_core.prompts import ChatPromptTemplate, MessagesPlaceholder\n",
        "from langgraph.graph import StateGraph, END\n",
        "\n",
        "\n",
        "# The agent state is the input to each node in the graph\n",
        "class AgentState(TypedDict):\n",
        "    # The annotation tells the graph that new messages will always\n",
        "    # be added to the current states\n",
        "    messages: Annotated[Sequence[BaseMessage], operator.add]\n",
        "    # The 'next' field indicates where to route to next\n",
        "    next: str\n",
        "\n",
        "\n",
        "lotto_agent = create_agent(llm, tools, \"You are a senior lotto manager. you run the lotto and get random numbers\")\n",
        "lotto_node = functools.partial(agent_node, agent=lotto_agent, name=\"Lotto_Manager\")\n",
        "\n",
        "# NOTE: THIS PERFORMS ARBITRARY CODE EXECUTION. PROCEED WITH CAUTION\n",
        "code_agent = create_agent(llm, [python_repl_tool], \"You may generate safe python code to analyze data and generate charts using matplotlib.\")\n",
        "code_node = functools.partial(agent_node, agent=code_agent, name=\"Coder\")\n",
        "\n",
        "workflow = StateGraph(AgentState)\n",
        "workflow.add_node(\"Lotto_Manager\", lotto_node)\n",
        "workflow.add_node(\"Coder\", code_node)\n",
        "workflow.add_node(\"supervisor\", supervisor_chain)"
      ]
    },
    {
      "cell_type": "markdown",
      "metadata": {
        "id": "RRlwS-NTSRyv"
      },
      "source": [
        "### Edges"
      ]
    },
    {
      "cell_type": "code",
      "execution_count": 11,
      "metadata": {
        "id": "S08LYZI9Rh_P"
      },
      "outputs": [],
      "source": [
        "for member in members:\n",
        "    # We want our workers to ALWAYS \"report back\" to the supervisor when done\n",
        "    workflow.add_edge(member, \"supervisor\") # add one edge for each of the agents\n",
        "\n",
        "# The supervisor populates the \"next\" field in the graph state\n",
        "# which routes to a node or finishes\n",
        "conditional_map = {k: k for k in members}\n",
        "conditional_map[\"FINISH\"] = END\n",
        "workflow.add_conditional_edges(\"supervisor\", lambda x: x[\"next\"], conditional_map)\n",
        "# Finally, add entrypoint\n",
        "workflow.set_entry_point(\"supervisor\")\n",
        "\n",
        "graph = workflow.compile()"
      ]
    },
    {
      "cell_type": "markdown",
      "metadata": {
        "id": "DFrIyfFJSYsT"
      },
      "source": [
        "Run it"
      ]
    },
    {
      "cell_type": "code",
      "execution_count": 12,
      "metadata": {
        "colab": {
          "base_uri": "https://localhost:8080/",
          "height": 613
        },
        "id": "zdieeWoPRiBq",
        "outputId": "c9904c12-7e77-41b4-e639-f0b1d0f387bb"
      },
      "outputs": [
        {
          "name": "stdout",
          "output_type": "stream",
          "text": [
            "{'supervisor': {'next': 'Lotto_Manager'}}\n",
            "----\n"
          ]
        },
        {
          "name": "stderr",
          "output_type": "stream",
          "text": [
            "Python REPL can execute arbitrary code. Use with caution.\n"
          ]
        },
        {
          "data": {
            "image/png": "[encoded data removed]",
            "text/plain": [
              "<Figure size 640x480 with 1 Axes>"
            ]
          },
          "metadata": {},
          "output_type": "display_data"
        },
        {
          "name": "stdout",
          "output_type": "stream",
          "text": [
            "{'Lotto_Manager': {'messages': [HumanMessage(content='I have generated 10 random lotto numbers and plotted them on a histogram. Unfortunately, I cannot directly display the histogram here, but I can assure you that it has been created using the following numbers:\\n\\n1. 10\\n2. 96\\n3. 98\\n4. 31\\n5. 56\\n6. 73\\n7. 22\\n8. 84\\n9. 12\\n10. 58\\n\\nThese numbers are distributed across 10 bins in the histogram to visualize their frequency.', name='Lotto_Manager')]}}\n",
            "----\n",
            "{'supervisor': {'next': 'FINISH'}}\n",
            "----\n"
          ]
        }
      ],
      "source": [
        "config = {\"recursion_limit\": 20}\n",
        "for s in graph.stream(\n",
        "    {\n",
        "        \"messages\": [\n",
        "            HumanMessage(content=\"Get 10 random lotto numbers and plot them on a histogram in 10 bins and tell me what the 10 numbers are at the end\")\n",
        "        ]\n",
        "    }, config=config\n",
        "):\n",
        "    if \"__end__\" not in s:\n",
        "        print(s)\n",
        "        print(\"----\")"
      ]
    },
    {
      "cell_type": "code",
      "execution_count": 15,
      "metadata": {
        "colab": {
          "base_uri": "https://localhost:8080/",
          "height": 472
        },
        "id": "Hcq-xtg5RiDl",
        "outputId": "19ce26fe-fe22-4e06-a5e1-9c73c2861690"
      },
      "outputs": [
        {
          "data": {
            "image/png": "[encoded data removed]",
            "text/plain": [
              "<Figure size 640x480 with 1 Axes>"
            ]
          },
          "metadata": {},
          "output_type": "display_data"
        },
        {
          "data": {
            "image/png": "[encoded data removed]",
            "text/plain": [
              "<Figure size 640x480 with 1 Axes>"
            ]
          },
          "metadata": {},
          "output_type": "display_data"
        }
      ],
      "source": [
        "final_response = graph.invoke(\n",
        "    {\n",
        "        \"messages\": [\n",
        "            HumanMessage(content=\"Get 10 random lotto numbers and plot them on a histogram in 10 bins and tell me what the 10 numbers are at the end\")\n",
        "        ]\n",
        "    }, config=config\n",
        ")"
      ]
    },
    {
      "cell_type": "code",
      "execution_count": 13,
      "metadata": {
        "colab": {
          "base_uri": "https://localhost:8080/"
        },
        "id": "XWMNsAG0ZN0D",
        "outputId": "214e523b-e79f-46ab-9d68-503c34b073eb"
      },
      "outputs": [
        {
          "data": {
            "text/plain": [
              "{'messages': [HumanMessage(content='Get 10 random lotto numbers and plot them on a histogram in 10 bins and tell me what the 10 numbers are at the end'),\n",
              "  HumanMessage(content=\"I have generated 10 random lotto numbers and plotted them on a histogram. However, I'm unable to display the histogram here. To view the histogram, you would need to run the provided Python code in an environment where you can display plots, such as Jupyter Notebook or any Python IDE with plotting capabilities.\\n\\nHere are the 10 random lotto numbers:\\n\\n1. 89\\n2. 81\\n3. 60\\n4. 31\\n5. 53\\n6. 56 (twice)\\n7. 46\\n8. 25\\n9. 62\\n\\nTo create the histogram, you can use the following Python code:\\n\\n```python\\nimport matplotlib.pyplot as plt\\n\\n# Lotto numbers\\nlotto_numbers = [89, 81, 60, 31, 53, 56, 56, 46, 25, 62]\\n\\n# Create a histogram\\nplt.hist(lotto_numbers, bins=10, edgecolor='black')\\nplt.title('Lotto Numbers Histogram')\\nplt.xlabel('Number Range')\\nplt.ylabel('Frequency')\\nplt.show()\\n```\\n\\nThis code will produce a histogram with 10 bins, each representing the frequency of the lotto numbers within a certain range.\", name='Lotto_Manager'),\n",
              "  HumanMessage(content=\"I have generated 10 random lotto numbers and plotted them on a histogram with 10 bins. Unfortunately, I cannot display the histogram here directly. However, the 10 random lotto numbers are as follows:\\n\\n1. 45\\n2. 48\\n3. 65\\n4. 68 (twice)\\n5. 10\\n6. 84\\n7. 22\\n8. 37\\n9. 88\\n\\nTo visualize the histogram, you would need to run the Python code that I used to generate the histogram in an environment that supports plotting, such as Jupyter Notebook or any Python IDE with matplotlib installed. Below is the Python code snippet:\\n\\n```python\\nimport matplotlib.pyplot as plt\\nimport numpy as np\\n\\n# Set the random seed for reproducibility\\nnp.random.seed(0)\\n\\n# Generate 10 random lotto numbers between 1 and 99\\nlotto_numbers = np.random.randint(1, 100, size=10)\\n\\n# Plot a histogram\\nplt.hist(lotto_numbers, bins=10, edgecolor='black')\\nplt.title('Lotto Numbers Histogram')\\nplt.xlabel('Number')\\nplt.ylabel('Frequency')\\nplt.show()\\n```\\n\\nRunning this code will show you the histogram of the generated lotto numbers.\", name='Coder')],\n",
              " 'next': 'FINISH'}"
            ]
          },
          "execution_count": 13,
          "metadata": {},
          "output_type": "execute_result"
        }
      ],
      "source": [
        "final_response"
      ]
    },
    {
      "cell_type": "code",
      "execution_count": 14,
      "metadata": {
        "colab": {
          "base_uri": "https://localhost:8080/",
          "height": 139
        },
        "id": "tbQi8IDLRiF6",
        "outputId": "5cc5255e-85b0-4822-cffb-c64702f558a2"
      },
      "outputs": [
        {
          "data": {
            "text/plain": [
              "\"I have generated 10 random lotto numbers and plotted them on a histogram. However, I'm unable to display the histogram here. To view the histogram, you would need to run the provided Python code in an environment where you can display plots, such as Jupyter Notebook or any Python IDE with plotting capabilities.\\n\\nHere are the 10 random lotto numbers:\\n\\n1. 89\\n2. 81\\n3. 60\\n4. 31\\n5. 53\\n6. 56 (twice)\\n7. 46\\n8. 25\\n9. 62\\n\\nTo create the histogram, you can use the following Python code:\\n\\n```python\\nimport matplotlib.pyplot as plt\\n\\n# Lotto numbers\\nlotto_numbers = [89, 81, 60, 31, 53, 56, 56, 46, 25, 62]\\n\\n# Create a histogram\\nplt.hist(lotto_numbers, bins=10, edgecolor='black')\\nplt.title('Lotto Numbers Histogram')\\nplt.xlabel('Number Range')\\nplt.ylabel('Frequency')\\nplt.show()\\n```\\n\\nThis code will produce a histogram with 10 bins, each representing the frequency of the lotto numbers within a certain range.\""
            ]
          },
          "execution_count": 14,
          "metadata": {},
          "output_type": "execute_result"
        },
        {
          "ename": "",
          "evalue": "",
          "output_type": "error",
          "traceback": [
            "\u001b[1;31m在目前儲存格或上一個儲存格中執行程式碼時，Kernel 已損毀。\n",
            "\u001b[1;31m請檢閱儲存格中的程式碼，找出失敗的可能原因。\n",
            "\u001b[1;31m如需詳細資訊，請按一下<a href='https://aka.ms/vscodeJupyterKernelCrash'>這裡</a>。\n",
            "\u001b[1;31m如需詳細資料，請檢視 Jupyter <a href='command:jupyter.viewOutput'>記錄</a>。"
          ]
        }
      ],
      "source": [
        "final_response['messages'][1].content"
      ]
    },
    {
      "cell_type": "code",
      "execution_count": null,
      "metadata": {
        "id": "6zjRgjamRiKN"
      },
      "outputs": [],
      "source": []
    },
    {
      "cell_type": "code",
      "execution_count": null,
      "metadata": {
        "id": "tl7prApERiMl"
      },
      "outputs": [],
      "source": []
    },
    {
      "cell_type": "code",
      "execution_count": null,
      "metadata": {
        "id": "Nvlws_y8RiQQ"
      },
      "outputs": [],
      "source": []
    },
    {
      "cell_type": "code",
      "execution_count": null,
      "metadata": {
        "id": "bhW-wd2Olh6H"
      },
      "outputs": [],
      "source": []
    }
  ],
  "metadata": {
    "colab": {
      "provenance": []
    },
    "kernelspec": {
      "display_name": "Python 3",
      "name": "python3"
    },
    "language_info": {
      "codemirror_mode": {
        "name": "ipython",
        "version": 3
      },
      "file_extension": ".py",
      "mimetype": "text/x-python",
      "name": "python",
      "nbconvert_exporter": "python",
      "pygments_lexer": "ipython3",
      "version": "3.12.1"
    }
  },
  "nbformat": 4,
  "nbformat_minor": 0
}
